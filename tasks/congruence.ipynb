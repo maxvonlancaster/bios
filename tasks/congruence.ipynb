{
 "cells": [
  {
   "cell_type": "markdown",
   "id": "b3e5ce91",
   "metadata": {},
   "source": [
    "# Конгруенції та їх використання."
   ]
  }
 ],
 "metadata": {
  "language_info": {
   "name": "python"
  }
 },
 "nbformat": 4,
 "nbformat_minor": 5
}
