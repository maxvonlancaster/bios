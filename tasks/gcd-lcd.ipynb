{
 "cells": [
  {
   "cell_type": "markdown",
   "id": "82f68e7e",
   "metadata": {},
   "source": [
    "# НСД, НСК. Їх ефективний пошук. Задачі на подільність. Однопрохідна задача про правильні нескоротні дроби."
   ]
  },
  {
   "cell_type": "markdown",
   "id": "fdafca2a",
   "metadata": {},
   "source": [
    "**Алгоритм Евкліда**"
   ]
  },
  {
   "cell_type": "code",
   "execution_count": null,
   "id": "c48502d7",
   "metadata": {},
   "outputs": [],
   "source": []
  },
  {
   "cell_type": "markdown",
   "id": "f3c5b18d",
   "metadata": {},
   "source": [
    "**1. Знайдіть найбільший спільний дільник (НСД) n чисел.**\n",
    "\n",
    "*Вхідні дані*\n",
    "Перша строка містить кількість чисел $n$ ($1<n<101$). Друга строка містить $n$ натуральних чисел, кожне з яких не перевищує 30000.\n",
    "\n",
    "*Вихідні дані*\n",
    "Виведіть одне число — НСД заданих чисел."
   ]
  },
  {
   "cell_type": "code",
   "execution_count": null,
   "id": "8d095f14",
   "metadata": {},
   "outputs": [],
   "source": []
  }
 ],
 "metadata": {
  "kernelspec": {
   "display_name": "Python 3",
   "language": "python",
   "name": "python3"
  },
  "language_info": {
   "codemirror_mode": {
    "name": "ipython",
    "version": 3
   },
   "file_extension": ".py",
   "mimetype": "text/x-python",
   "name": "python",
   "nbconvert_exporter": "python",
   "pygments_lexer": "ipython3",
   "version": "3.11.0"
  }
 },
 "nbformat": 4,
 "nbformat_minor": 5
}
