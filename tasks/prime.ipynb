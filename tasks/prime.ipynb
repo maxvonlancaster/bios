{
 "cells": [
  {
   "cell_type": "markdown",
   "id": "60babc78",
   "metadata": {},
   "source": [
    "# Прості числа. Решето Ератосфена. Програмні реалізації."
   ]
  },
  {
   "cell_type": "markdown",
   "id": "998ea61a",
   "metadata": {},
   "source": [
    "**Просте число** — це натуральне число, бiльше за 1, єдиними додатними дiльниками якого є\n",
    "воно й 1. Очевидно, що 2 є єдиним парним простим числом, тому 2 i 3 є єдиними послiдовними\n",
    "простими числами. Цiле число, вiдмiнне вiд 1, яке не є простим називається складеним. Зрозумiло, що якщо $n > 1$ — складене, то ми можемо записати $n$ у виглядi $n = ab$; $1 < a \\leq b < n$ та\n",
    "$a, b \\in \\mathbb{N}$ .\n",
    "\n",
    "**Теорема.** Iснує нескiнченна кiлькiсть простих чисел.\n",
    "\n",
    "Для простих чисел $p_{1}$, ..., $p_{k}$ побудуємо $n = p_{1}p_{2}...p_{k} + 1$, яке є або новим простим числом не\n",
    "з цього перелiку, або дiлиться на просте число $p$ не з цього перелiку чисел."
   ]
  },
  {
   "cell_type": "markdown",
   "id": "d9e8fd9d",
   "metadata": {},
   "source": [
    "$n = p_{k+1}  $, або $n : p_{k+1}$"
   ]
  },
  {
   "cell_type": "markdown",
   "id": "f1dce387",
   "metadata": {},
   "source": [
    "**Застосування.**\n",
    "\n",
    "Декілька алгоритмів криптографії з відкритим ключем, таких як RSA та обмін ключами Діффі-Хеллмана, базуються на великих простих числах (зазвичай використовуються 2048-бітні прості числа). RSA базується на припущенні, що набагато простіше (тобто ефективніше) виконати множення двох (великих) чисел $x$ і ⁠$y$⁠, ніж обчислювати ⁠\n",
    "$x$ і ⁠$y$⁠ (які вважаються взаємно простими), якщо відомий тільки добуток $xy$. "
   ]
  },
  {
   "cell_type": "markdown",
   "id": "fdf8224f",
   "metadata": {},
   "source": [
    "**Решето Ератосфена**\n",
    "\n",
    "![eratosthenes](./../resources/Sieve_of_Eratosthenes_animation.gif)"
   ]
  },
  {
   "cell_type": "code",
   "execution_count": 17,
   "id": "8acd3da8",
   "metadata": {},
   "outputs": [
    {
     "name": "stdout",
     "output_type": "stream",
     "text": [
      "[2, 3, 5, 7, 11, 13, 17, 19, 23, 29, 31, 37, 41, 43, 47, 53, 59, 61, 67, 71, 73, 79, 83, 89, 97, 101, 103, 107, 109, 113]\n"
     ]
    }
   ],
   "source": [
    "import math \n",
    "\n",
    "def erathosthenes_list(n: int) -> list[int]:\n",
    "    primes = [True for i in range(n + 1)]\n",
    "    primes[0] = False \n",
    "    primes[1] = False \n",
    "\n",
    "    for i in range(2, int(math.sqrt(n)) + 1):\n",
    "        if primes[i] == True:\n",
    "            for j in range(i*i, n + 1, i):\n",
    "                primes[j] = False \n",
    "    \n",
    "    return [i for i in range(n + 1) if primes[i]]\n",
    "\n",
    "n = int(input())\n",
    "print(erathosthenes_list(n))"
   ]
  },
  {
   "cell_type": "markdown",
   "id": "591e42e1",
   "metadata": {},
   "source": [
    "**0. Задача**\n",
    "\n",
    "Знайти всi $n \\in \\mathbb{N}$ такi, що $n^{4} + 4$ — просте."
   ]
  },
  {
   "cell_type": "markdown",
   "id": "f5d3ad24",
   "metadata": {},
   "source": [
    "*Розв'язок*\n",
    "\n",
    "n = 1, $n^{4} + 4 = 5$\n",
    "\n",
    "$n^{4} + 4 = n^{4} + 4n^{2} + 4 - 4n^{2} = (n^{2} + 2)^{2} - 4n^{2} = (n^{2} + 2)^{2} - (2n)^{2} = (n^{2} + 2 - 2n)(n^{2} + 2 + 2n)$\n",
    "\n",
    "\n",
    "$n^{2} + 2 + 2n = 1$\n",
    "\n",
    "$n = -1$\n",
    "\n",
    "$n^{2} + 2 - 2n = 1$\n",
    "\n",
    "$n = 1$"
   ]
  },
  {
   "cell_type": "markdown",
   "id": "e1820be4",
   "metadata": {},
   "source": [
    "**1. Просте Число**\n",
    "\n",
    "https://eolymp.com/uk/problems/8929\n",
    "\n",
    "На вході програми маємо натуральне число $n$ ($n>1$). Потрібно перевірити, чи задане число — просте, тобто ділиться тільки на 1 і $n$.\n",
    "\n",
    "*Вхідні дані*: Натуральне число $n$ ($1 < n < 2^{31}$)).\n",
    "\n",
    "*Вихідні дані*: Вивести 1, якщо число $n$ просте і 0 у протилежному випадку."
   ]
  },
  {
   "cell_type": "code",
   "execution_count": 11,
   "id": "f0ffd284",
   "metadata": {},
   "outputs": [
    {
     "name": "stdout",
     "output_type": "stream",
     "text": [
      "1\n"
     ]
    }
   ],
   "source": [
    "import math\n",
    "\n",
    "def check_is_prime(n: int) -> int:\n",
    "    if n == 2:\n",
    "        return 1\n",
    "    for i in range(2, int(math.sqrt(n)) + 1):\n",
    "        if n % i == 0:\n",
    "            return 0\n",
    "    return 1\n",
    "\n",
    "n = int(input())\n",
    "print(check_is_prime(n))"
   ]
  },
  {
   "cell_type": "markdown",
   "id": "a6f30eba",
   "metadata": {},
   "source": [
    "**2. Виведіть всі прості числа від m до n включно.**\n",
    "\n",
    "https://eolymp.com/uk/problems/830\n",
    "\n",
    "*Вхідні дані:* Два цілі числа $m$ і $n$ ($2\\leq m\\leq n\\leq 300000$).\n",
    "\n",
    "*Вихідні дані:* Виведіть числа у порядку зростання, по одному у рядку. Якщо між $m$ і $n$ включно немає простих чисел, то виведіть \"Absent\"."
   ]
  },
  {
   "cell_type": "code",
   "execution_count": 18,
   "id": "2062a3aa",
   "metadata": {},
   "outputs": [
    {
     "name": "stdout",
     "output_type": "stream",
     "text": [
      "[23, 29, 31, 37]\n"
     ]
    }
   ],
   "source": [
    "import math \n",
    "\n",
    "def find_prime_in_range(m: int, n: int) -> str:\n",
    "    primes = [True for i in range(n + 1)]\n",
    "    primes[0] = False \n",
    "    primes[1] = False \n",
    "\n",
    "    for i in range(2, int(math.sqrt(n)) + 1):\n",
    "        if primes[i] == True:\n",
    "            for j in range(i*i, n + 1, i):\n",
    "                primes[j] = False \n",
    "    primes = [i for i in range(m, n + 1) if primes[i]]\n",
    "\n",
    "    if len(primes) == 0:\n",
    "        return 'Absent'\n",
    "    \n",
    "    return str(primes)\n",
    "\n",
    "m = int(input())\n",
    "n = int(input())\n",
    "\n",
    "print(find_prime_in_range(m, n))"
   ]
  },
  {
   "cell_type": "markdown",
   "id": "0c0e5b38",
   "metadata": {},
   "source": [
    "**3. Сума простих чисел**\n",
    "\n",
    "https://eolymp.com/uk/problems/11661\n",
    "\n",
    "Задаються натуральні числа $A$ та $N$. Напишіть програму яка підраховує кількість способів (з врахуванням порядку), якими можна представити число $А$ у вигляді суми $N$ простих чисел.\n",
    "\n",
    "*Вхідні дані*: В першому рядку – натуральне число $А$ ($1\\leq A\\leq 3000$).\n",
    "\n",
    "В другому рядку – натуральне число $N$ ($2\\leq N\\leq 10$).\n",
    "\n",
    "*Вихідні дані*: Ціле число – відповідь на питання задачі або $−1$, якщо розв’язок задачі не існує.\n",
    "\n",
    "*Приклад*: 10 2 -> 3 ($10 = 3 + 7 = 5 + 5 = 7 + 3$)."
   ]
  },
  {
   "cell_type": "code",
   "execution_count": null,
   "id": "42d8eeed",
   "metadata": {},
   "outputs": [
    {
     "name": "stdout",
     "output_type": "stream",
     "text": [
      "6\n"
     ]
    }
   ],
   "source": [
    "# 0, 1|, 2, 3|, 4, 5, 6, 7, 8, 9\n",
    "# n = 3\n",
    "\n",
    "import math\n",
    "\n",
    "def check_representation_prime(representation: list[int], primes: list[int]) -> bool:\n",
    "    j = len(representation) - 1\n",
    "    while j >= 1:\n",
    "        if representation[j] - representation[j - 1] not in primes:\n",
    "            return False\n",
    "        j -= 1\n",
    "    if (representation[0] + 1) not in primes:\n",
    "        return False\n",
    "    return True\n",
    "\n",
    "def calculate_prime_representations_split(a: int, n: int) -> int:\n",
    "    if n > a // 2:\n",
    "        return -1\n",
    "\n",
    "    primes = [True for i in range(a + 1)]\n",
    "    primes[0], primes[1] = False, False\n",
    "    for i in range(2, int(math.sqrt(a + 1) + 1)):\n",
    "        if(primes[i] == True):\n",
    "            for j in range(i * i, a + 1, i):\n",
    "                primes[j] = False\n",
    "    prime_numbers = [i for i in range(a + 1) if primes[i]]\n",
    "\n",
    "    representations = []\n",
    "    representation = []\n",
    "    marker = 1\n",
    "    for i in range(n - 1):\n",
    "        representation.append(marker)\n",
    "        marker += 2\n",
    "\n",
    "    representation.append(a - 1)\n",
    "    j = n - 2\n",
    "    while j >= 0:\n",
    "        if check_representation_prime(representation, prime_numbers):\n",
    "            representations.append(representation.copy())\n",
    "        if representation[j] == representation[j + 1] - 2 and j > 0:\n",
    "            representation[j - 1] += 1\n",
    "            if representation[j - 1] == representation[j] - 2:\n",
    "                j -= 1\n",
    "                continue\n",
    "            representation[j] = representation[j - 1] + 2\n",
    "            continue\n",
    "        if representation[j] == representation[j + 1] - 2 and j == 0:\n",
    "            j -= 1\n",
    "            continue\n",
    "        representation[j] += 1\n",
    "\n",
    "    if len(representations) == 0:\n",
    "        return -1\n",
    "    \n",
    "    return len(representations)\n",
    "\n",
    "a = int(input())\n",
    "n = int(input())\n",
    "print(calculate_prime_representations_split(a, n))"
   ]
  },
  {
   "cell_type": "markdown",
   "id": "72802881",
   "metadata": {},
   "source": [
    "**3.14. Задача**\n",
    "\n",
    "$p$, $p + 40$ та $p + 44$ — простi числа. Знайдiть всі можливі $p$."
   ]
  },
  {
   "cell_type": "markdown",
   "id": "cd94822d",
   "metadata": {},
   "source": [
    "*Розв.*\n",
    "\n",
    "$p = 3$\n",
    "\n",
    "3, 43, 47 - прості числа\n",
    "\n",
    "$p \\neq 3$\n",
    "\n",
    "$p = 3k + 1$ => $p + 44 = 3k + 45$ ділиться на 3 \n",
    "\n",
    "або \n",
    "\n",
    "$p = 3k + 2$ => $p + 40 = 3k + 42$ ділиться на 3"
   ]
  }
 ],
 "metadata": {
  "kernelspec": {
   "display_name": "Python 3",
   "language": "python",
   "name": "python3"
  },
  "language_info": {
   "codemirror_mode": {
    "name": "ipython",
    "version": 3
   },
   "file_extension": ".py",
   "mimetype": "text/x-python",
   "name": "python",
   "nbconvert_exporter": "python",
   "pygments_lexer": "ipython3",
   "version": "3.11.0"
  }
 },
 "nbformat": 4,
 "nbformat_minor": 5
}
