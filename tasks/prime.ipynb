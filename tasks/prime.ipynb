{
 "cells": [
  {
   "cell_type": "markdown",
   "id": "60babc78",
   "metadata": {},
   "source": [
    "# Прості числа. Решето Ератосфена. Програмні реалізації."
   ]
  },
  {
   "cell_type": "markdown",
   "id": "f0b1c0af",
   "metadata": {},
   "source": [
    "**Решето Ератосфена**"
   ]
  },
  {
   "cell_type": "code",
   "execution_count": null,
   "id": "3215ee95",
   "metadata": {},
   "outputs": [],
   "source": []
  },
  {
   "cell_type": "markdown",
   "id": "a6f30eba",
   "metadata": {},
   "source": [
    "**1. Виведіть всі прості числа від m до n включно.**\n",
    "\n",
    "*Вхідні дані:* Два цілі числа $m$ і $n$ ($2\\leq m\\leq n\\leq 300000$).\n",
    "\n",
    "*Вихідні дані:* Виведіть числа у порядку зростання, по одному у рядку. Якщо між $m$ і $n$ включно немає простих чисел, то виведіть \"Absent\"."
   ]
  },
  {
   "cell_type": "code",
   "execution_count": null,
   "id": "2062a3aa",
   "metadata": {},
   "outputs": [],
   "source": []
  }
 ],
 "metadata": {
  "language_info": {
   "name": "python"
  }
 },
 "nbformat": 4,
 "nbformat_minor": 5
}
